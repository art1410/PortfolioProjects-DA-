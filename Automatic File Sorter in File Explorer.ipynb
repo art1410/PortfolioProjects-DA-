{
 "cells": [
  {
   "cell_type": "code",
   "execution_count": 1,
   "id": "5490a4cb",
   "metadata": {},
   "outputs": [],
   "source": [
    "import os,shutil"
   ]
  },
  {
   "cell_type": "code",
   "execution_count": 29,
   "id": "a8b31233",
   "metadata": {},
   "outputs": [],
   "source": [
    "path = r\"D:/PYTutorial/Python tutorial/\""
   ]
  },
  {
   "cell_type": "code",
   "execution_count": 30,
   "id": "990b232d",
   "metadata": {},
   "outputs": [],
   "source": [
    "file_name = os.listdir(path)"
   ]
  },
  {
   "cell_type": "code",
   "execution_count": 31,
   "id": "33718ec0",
   "metadata": {},
   "outputs": [
    {
     "data": {
      "text/plain": [
       "False"
      ]
     },
     "execution_count": 31,
     "metadata": {},
     "output_type": "execute_result"
    }
   ],
   "source": [
    "os.path.exists(path + 'csv files')"
   ]
  },
  {
   "cell_type": "code",
   "execution_count": 11,
   "id": "190879b9",
   "metadata": {},
   "outputs": [],
   "source": [
    "#Creating folders for specific files\n",
    "folder_names = ['Excel Files','Image Files','Text Documents']\n",
    "\n",
    "for loop in range(0,3):\n",
    "    if not os.path.exists(path + folder_names[loop]):\n",
    "        os.makedirs(path + folder_names[loop])"
   ]
  },
  {
   "cell_type": "code",
   "execution_count": 32,
   "id": "19c165ab",
   "metadata": {},
   "outputs": [],
   "source": [
    "#Writing a script to move files in their respective folders\n",
    "for file in file_name:\n",
    "    if \".csv\" in file and not os.path.exists(path + \"Excel Files/\" + file):\n",
    "        shutil.move(path + file, path + \"Excel Files/\" + file)\n",
    "    if \".rtf\" in file and not os.path.exists(path + \"Text Documents/\" + file):\n",
    "        shutil.move(path + file, path + \"Text Documents/\" + file)\n",
    "    if \".png\" in file and not os.path.exists(path + \"Image Files/\" + file):\n",
    "        shutil.move(path + file, path + \"Image Files/\" + file)   "
   ]
  }
 ],
 "metadata": {
  "kernelspec": {
   "display_name": "Python 3 (ipykernel)",
   "language": "python",
   "name": "python3"
  },
  "language_info": {
   "codemirror_mode": {
    "name": "ipython",
    "version": 3
   },
   "file_extension": ".py",
   "mimetype": "text/x-python",
   "name": "python",
   "nbconvert_exporter": "python",
   "pygments_lexer": "ipython3",
   "version": "3.11.5"
  }
 },
 "nbformat": 4,
 "nbformat_minor": 5
}
